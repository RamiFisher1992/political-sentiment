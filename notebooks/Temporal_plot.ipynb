{
 "cells": [
  {
   "cell_type": "code",
   "execution_count": 1,
   "metadata": {},
   "outputs": [],
   "source": [
    "from bokeh.plotting import figure, show\n",
    "from bokeh.models import ColumnDataSource, HoverTool\n",
    "from bokeh.models import DatetimeTickFormatter\n",
    "import pandas as pd"
   ]
  },
  {
   "cell_type": "code",
   "execution_count": 2,
   "metadata": {},
   "outputs": [
    {
     "data": {
      "text/plain": [
       "Unnamed: 0                         int64\n",
       "Date                      datetime64[ns]\n",
       "Text                              object\n",
       "Negative_Score                   float64\n",
       "Natural_Score                    float64\n",
       "Positive_Score                   float64\n",
       "Negative_Score_Rolling           float64\n",
       "dtype: object"
      ]
     },
     "execution_count": 2,
     "metadata": {},
     "output_type": "execute_result"
    }
   ],
   "source": [
    "senti_df = pd.read_csv('../scores/Sentiment_Scores.csv')\n",
    "senti_df['Date'] = pd.to_datetime(senti_df['Date'])\n",
    "senti_df.sort_values(by='Date',inplace=True)\n",
    "senti_df.dtypes"
   ]
  },
  {
   "cell_type": "code",
   "execution_count": 3,
   "metadata": {},
   "outputs": [],
   "source": [
    "def plot_twittes_by_time(df, column_name, upper_th, lower_th):\n",
    "    df[\"AreaSentiment\"] = [\n",
    "        \"red\" if score > upper_th else \"yellow\" if score > lower_th else \"green\"\n",
    "        for score in df[column_name]\n",
    "    ]\n",
    "\n",
    "    # Create a ColumnDataSource from the DataFrame\n",
    "    source = ColumnDataSource(df)\n",
    "    # Create the figure\n",
    "    p = figure(\n",
    "        title=\"Twitters Avarage Sentiment Scores  Over Time\",\n",
    "        x_axis_label=\"Date\",\n",
    "        y_axis_label=column_name,\n",
    "    )\n",
    "\n",
    "    # Add a scatter plot\n",
    "    p.scatter(\"Date\", column_name, source=source, color=\"AreaSentiment\")\n",
    "\n",
    "    # Format the x-axis tick labels\n",
    "    p.xaxis[0].formatter = DatetimeTickFormatter(months=\"%Y-%m-%d %H:%M:%S\")\n",
    "\n",
    "    # Add hover tool to display the text when hovering over a data point\n",
    "    hover = HoverTool(\n",
    "        tooltips=[(\"Text\", \"@Text\"), (\"Date\", \"@Date{%F}\")],\n",
    "        formatters={\"@Date\": \"datetime\"},\n",
    "    )\n",
    "    p.add_tools(hover)\n",
    "    # Show the plot\n",
    "    return p"
   ]
  },
  {
   "cell_type": "code",
   "execution_count": 4,
   "metadata": {},
   "outputs": [],
   "source": [
    "show(plot_twittes_by_time(senti_df,'Negative_Score_Rolling',0.56,0.52))"
   ]
  },
  {
   "cell_type": "code",
   "execution_count": null,
   "metadata": {},
   "outputs": [],
   "source": []
  }
 ],
 "metadata": {
  "kernelspec": {
   "display_name": "senti",
   "language": "python",
   "name": "python3"
  },
  "language_info": {
   "codemirror_mode": {
    "name": "ipython",
    "version": 3
   },
   "file_extension": ".py",
   "mimetype": "text/x-python",
   "name": "python",
   "nbconvert_exporter": "python",
   "pygments_lexer": "ipython3",
   "version": "3.8.17"
  }
 },
 "nbformat": 4,
 "nbformat_minor": 2
}
